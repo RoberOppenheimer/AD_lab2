{
 "cells": [
  {
   "cell_type": "markdown",
   "metadata": {},
   "source": [
    "# Перший рівень\n",
    "\n",
    "imports"
   ]
  },
  {
   "cell_type": "code",
   "execution_count": 1,
   "metadata": {},
   "outputs": [],
   "source": [
    "import pandas as pd\n",
    "from ucimlrepo import fetch_ucirepo\n",
    "import numpy as np\n",
    "import timeit as ti"
   ]
  },
  {
   "cell_type": "markdown",
   "metadata": {},
   "source": [
    "Downloading dataset"
   ]
  },
  {
   "cell_type": "code",
   "execution_count": 2,
   "metadata": {},
   "outputs": [
    {
     "name": "stderr",
     "output_type": "stream",
     "text": [
      "k:\\Visual Studio Code\\CRDF\\Python\\Lib\\site-packages\\ucimlrepo\\fetch.py:97: DtypeWarning: Columns (2,3,4,5,6,7) have mixed types. Specify dtype option on import or set low_memory=False.\n",
      "  df = pd.read_csv(data_url)\n",
      "C:\\Users\\Сергей\\AppData\\Local\\Temp\\ipykernel_13784\\3273347499.py:6: DtypeWarning: Columns (2,3,4,5,6,7) have mixed types. Specify dtype option on import or set low_memory=False.\n",
      "  df = pd.read_csv('household_power_consumption.csv')\n"
     ]
    },
    {
     "name": "stdout",
     "output_type": "stream",
     "text": [
      "               Date      Time Global_active_power Global_reactive_power  \\\n",
      "0        16/12/2006  17:24:00               4.216                 0.418   \n",
      "1        16/12/2006  17:25:00               5.360                 0.436   \n",
      "2        16/12/2006  17:26:00               5.374                 0.498   \n",
      "3        16/12/2006  17:27:00               5.388                 0.502   \n",
      "4        16/12/2006  17:28:00               3.666                 0.528   \n",
      "...             ...       ...                 ...                   ...   \n",
      "2075254  26/11/2010  20:58:00               0.946                   0.0   \n",
      "2075255  26/11/2010  20:59:00               0.944                   0.0   \n",
      "2075256  26/11/2010  21:00:00               0.938                   0.0   \n",
      "2075257  26/11/2010  21:01:00               0.934                   0.0   \n",
      "2075258  26/11/2010  21:02:00               0.932                   0.0   \n",
      "\n",
      "         Voltage Global_intensity Sub_metering_1 Sub_metering_2  \\\n",
      "0        234.840           18.400          0.000          1.000   \n",
      "1        233.630           23.000          0.000          1.000   \n",
      "2        233.290           23.000          0.000          2.000   \n",
      "3        233.740           23.000          0.000          1.000   \n",
      "4        235.680           15.800          0.000          1.000   \n",
      "...          ...              ...            ...            ...   \n",
      "2075254   240.43              4.0            0.0            0.0   \n",
      "2075255    240.0              4.0            0.0            0.0   \n",
      "2075256   239.82              3.8            0.0            0.0   \n",
      "2075257    239.7              3.8            0.0            0.0   \n",
      "2075258   239.55              3.8            0.0            0.0   \n",
      "\n",
      "         Sub_metering_3  \n",
      "0                  17.0  \n",
      "1                  16.0  \n",
      "2                  17.0  \n",
      "3                  17.0  \n",
      "4                  17.0  \n",
      "...                 ...  \n",
      "2075254             0.0  \n",
      "2075255             0.0  \n",
      "2075256             0.0  \n",
      "2075257             0.0  \n",
      "2075258             0.0  \n",
      "\n",
      "[2049280 rows x 9 columns]\n"
     ]
    }
   ],
   "source": [
    "household_power_consumption = fetch_ucirepo(id=235)\n",
    "X = household_power_consumption.data.features\n",
    "df = pd.DataFrame(X)\n",
    "df.to_csv('household_power_consumption.csv', index=False)\n",
    "\n",
    "df = pd.read_csv('household_power_consumption.csv')\n",
    "df = df.dropna()\n",
    "\n",
    "print(df)"
   ]
  },
  {
   "cell_type": "markdown",
   "metadata": {},
   "source": [
    "Data cleaning"
   ]
  },
  {
   "cell_type": "code",
   "execution_count": 3,
   "metadata": {},
   "outputs": [
    {
     "name": "stderr",
     "output_type": "stream",
     "text": [
      "C:\\Users\\Сергей\\AppData\\Local\\Temp\\ipykernel_13784\\2632478488.py:1: UserWarning: Parsing dates in %d/%m/%Y %H:%M:%S format when dayfirst=False (the default) was specified. Pass `dayfirst=True` or specify a format to silence this warning.\n",
      "  df['DateTime'] = pd.to_datetime(df['Date'] + ' ' + df['Time'])\n"
     ]
    }
   ],
   "source": [
    "df['DateTime'] = pd.to_datetime(df['Date'] + ' ' + df['Time'])\n",
    "\n",
    "for column in df.columns[2:-1]:\n",
    "    df[column] = pd.to_numeric(df[column], errors = 'coerce')\n",
    "\n",
    "df.drop(['Date', 'Time'], axis=1, inplace=True)"
   ]
  },
  {
   "cell_type": "markdown",
   "metadata": {},
   "source": [
    "Showing DataFrame and Numpy array"
   ]
  },
  {
   "cell_type": "code",
   "execution_count": 4,
   "metadata": {},
   "outputs": [
    {
     "name": "stdout",
     "output_type": "stream",
     "text": [
      "         Global_active_power  Global_reactive_power  Voltage  \\\n",
      "0                      4.216                  0.418   234.84   \n",
      "1                      5.360                  0.436   233.63   \n",
      "2                      5.374                  0.498   233.29   \n",
      "3                      5.388                  0.502   233.74   \n",
      "4                      3.666                  0.528   235.68   \n",
      "...                      ...                    ...      ...   \n",
      "2075254                0.946                  0.000   240.43   \n",
      "2075255                0.944                  0.000   240.00   \n",
      "2075256                0.938                  0.000   239.82   \n",
      "2075257                0.934                  0.000   239.70   \n",
      "2075258                0.932                  0.000   239.55   \n",
      "\n",
      "         Global_intensity  Sub_metering_1  Sub_metering_2  Sub_metering_3  \\\n",
      "0                    18.4             0.0             1.0            17.0   \n",
      "1                    23.0             0.0             1.0            16.0   \n",
      "2                    23.0             0.0             2.0            17.0   \n",
      "3                    23.0             0.0             1.0            17.0   \n",
      "4                    15.8             0.0             1.0            17.0   \n",
      "...                   ...             ...             ...             ...   \n",
      "2075254               4.0             0.0             0.0             0.0   \n",
      "2075255               4.0             0.0             0.0             0.0   \n",
      "2075256               3.8             0.0             0.0             0.0   \n",
      "2075257               3.8             0.0             0.0             0.0   \n",
      "2075258               3.8             0.0             0.0             0.0   \n",
      "\n",
      "                   DateTime  \n",
      "0       2006-12-16 17:24:00  \n",
      "1       2006-12-16 17:25:00  \n",
      "2       2006-12-16 17:26:00  \n",
      "3       2006-12-16 17:27:00  \n",
      "4       2006-12-16 17:28:00  \n",
      "...                     ...  \n",
      "2075254 2010-11-26 20:58:00  \n",
      "2075255 2010-11-26 20:59:00  \n",
      "2075256 2010-11-26 21:00:00  \n",
      "2075257 2010-11-26 21:01:00  \n",
      "2075258 2010-11-26 21:02:00  \n",
      "\n",
      "[2049280 rows x 8 columns]\n",
      "[[4.216 0.418 234.84 ... 1.0 17.0 Timestamp('2006-12-16 17:24:00')]\n",
      " [5.36 0.436 233.63 ... 1.0 16.0 Timestamp('2006-12-16 17:25:00')]\n",
      " [5.374 0.498 233.29 ... 2.0 17.0 Timestamp('2006-12-16 17:26:00')]\n",
      " ...\n",
      " [0.938 0.0 239.82 ... 0.0 0.0 Timestamp('2010-11-26 21:00:00')]\n",
      " [0.934 0.0 239.7 ... 0.0 0.0 Timestamp('2010-11-26 21:01:00')]\n",
      " [0.932 0.0 239.55 ... 0.0 0.0 Timestamp('2010-11-26 21:02:00')]]\n"
     ]
    }
   ],
   "source": [
    "npy = df.to_numpy()\n",
    "print(df)\n",
    "print(npy)"
   ]
  },
  {
   "cell_type": "markdown",
   "metadata": {},
   "source": [
    "Task 1"
   ]
  },
  {
   "cell_type": "code",
   "execution_count": 5,
   "metadata": {},
   "outputs": [
    {
     "name": "stdout",
     "output_type": "stream",
     "text": [
      "Filtered DataFrame:\n",
      "          Global_active_power  Global_reactive_power  Voltage  \\\n",
      "1                      5.360                  0.436   233.63   \n",
      "2                      5.374                  0.498   233.29   \n",
      "3                      5.388                  0.502   233.74   \n",
      "11                     5.412                  0.470   232.78   \n",
      "12                     5.224                  0.478   232.99   \n",
      "...                      ...                    ...      ...   \n",
      "2069356                5.408                  0.150   231.50   \n",
      "2069357                5.528                  0.144   232.48   \n",
      "2071586                5.172                  0.050   235.18   \n",
      "2071587                5.750                  0.000   234.40   \n",
      "2072997                5.074                  0.240   238.55   \n",
      "\n",
      "         Global_intensity  Sub_metering_1  Sub_metering_2  Sub_metering_3  \\\n",
      "1                    23.0             0.0             1.0            16.0   \n",
      "2                    23.0             0.0             2.0            17.0   \n",
      "3                    23.0             0.0             1.0            17.0   \n",
      "11                   23.2             0.0             1.0            17.0   \n",
      "12                   22.4             0.0             1.0            16.0   \n",
      "...                   ...             ...             ...             ...   \n",
      "2069356              23.6            48.0             0.0             0.0   \n",
      "2069357              24.6            53.0             0.0             0.0   \n",
      "2071586              22.0             0.0            38.0            17.0   \n",
      "2071587              24.6             0.0            39.0            17.0   \n",
      "2072997              21.4             1.0             2.0            18.0   \n",
      "\n",
      "                   DateTime  \n",
      "1       2006-12-16 17:25:00  \n",
      "2       2006-12-16 17:26:00  \n",
      "3       2006-12-16 17:27:00  \n",
      "11      2006-12-16 17:35:00  \n",
      "12      2006-12-16 17:36:00  \n",
      "...                     ...  \n",
      "2069356 2010-11-22 18:40:00  \n",
      "2069357 2010-11-22 18:41:00  \n",
      "2071586 2010-11-24 07:50:00  \n",
      "2071587 2010-11-24 07:51:00  \n",
      "2072997 2010-11-25 07:21:00  \n",
      "\n",
      "[17547 rows x 8 columns]\n",
      "Execution time: 0.005043999990448356\n",
      "Filtered Numpy array:\n",
      " [[5.36 0.436 233.63 ... 1.0 16.0 Timestamp('2006-12-16 17:25:00')]\n",
      " [5.374 0.498 233.29 ... 2.0 17.0 Timestamp('2006-12-16 17:26:00')]\n",
      " [5.388 0.502 233.74 ... 1.0 17.0 Timestamp('2006-12-16 17:27:00')]\n",
      " ...\n",
      " [5.172 0.05 235.18 ... 38.0 17.0 Timestamp('2010-11-24 07:50:00')]\n",
      " [5.75 0.0 234.4 ... 39.0 17.0 Timestamp('2010-11-24 07:51:00')]\n",
      " [5.074 0.24 238.55 ... 2.0 18.0 Timestamp('2010-11-25 07:21:00')]]\n",
      "Execution time: 0.052642300026491284\n"
     ]
    }
   ],
   "source": [
    "def task1_df():\n",
    "    return df[df['Global_active_power'] > 5]\n",
    "\n",
    "def task1_npy():\n",
    "    return npy[npy[:, 0] > 5]\n",
    "\n",
    "print('Filtered DataFrame:\\n', task1_df())\n",
    "print(\"Execution time:\", ti.timeit(lambda: task1_df(), number=1))\n",
    "\n",
    "print('Filtered Numpy array:\\n', task1_npy())\n",
    "print(\"Execution time:\", ti.timeit(lambda: task1_npy(), number=1))"
   ]
  },
  {
   "cell_type": "markdown",
   "metadata": {},
   "source": [
    "Task 2"
   ]
  },
  {
   "cell_type": "code",
   "execution_count": 6,
   "metadata": {},
   "outputs": [
    {
     "name": "stdout",
     "output_type": "stream",
     "text": [
      "Filtered DataFrame:\n",
      "          Global_active_power  Global_reactive_power  Voltage  \\\n",
      "4                      3.666                  0.528   235.68   \n",
      "5                      3.520                  0.522   235.02   \n",
      "6                      3.702                  0.520   235.09   \n",
      "7                      3.700                  0.520   235.22   \n",
      "14                     4.054                  0.422   235.24   \n",
      "...                      ...                    ...      ...   \n",
      "2075254                0.946                  0.000   240.43   \n",
      "2075255                0.944                  0.000   240.00   \n",
      "2075256                0.938                  0.000   239.82   \n",
      "2075257                0.934                  0.000   239.70   \n",
      "2075258                0.932                  0.000   239.55   \n",
      "\n",
      "         Global_intensity  Sub_metering_1  Sub_metering_2  Sub_metering_3  \\\n",
      "4                    15.8             0.0             1.0            17.0   \n",
      "5                    15.0             0.0             2.0            17.0   \n",
      "6                    15.8             0.0             1.0            17.0   \n",
      "7                    15.8             0.0             1.0            17.0   \n",
      "14                   17.6             0.0             1.0            17.0   \n",
      "...                   ...             ...             ...             ...   \n",
      "2075254               4.0             0.0             0.0             0.0   \n",
      "2075255               4.0             0.0             0.0             0.0   \n",
      "2075256               3.8             0.0             0.0             0.0   \n",
      "2075257               3.8             0.0             0.0             0.0   \n",
      "2075258               3.8             0.0             0.0             0.0   \n",
      "\n",
      "                   DateTime  \n",
      "4       2006-12-16 17:28:00  \n",
      "5       2006-12-16 17:29:00  \n",
      "6       2006-12-16 17:30:00  \n",
      "7       2006-12-16 17:31:00  \n",
      "14      2006-12-16 17:38:00  \n",
      "...                     ...  \n",
      "2075254 2010-11-26 20:58:00  \n",
      "2075255 2010-11-26 20:59:00  \n",
      "2075256 2010-11-26 21:00:00  \n",
      "2075257 2010-11-26 21:01:00  \n",
      "2075258 2010-11-26 21:02:00  \n",
      "\n",
      "[1952491 rows x 8 columns]\n",
      "Execution time: 0.09541140007786453\n",
      "Filtered Numpy array:\n",
      " [[3.666 0.528 235.68 ... 1.0 17.0 Timestamp('2006-12-16 17:28:00')]\n",
      " [3.52 0.522 235.02 ... 2.0 17.0 Timestamp('2006-12-16 17:29:00')]\n",
      " [3.702 0.52 235.09 ... 1.0 17.0 Timestamp('2006-12-16 17:30:00')]\n",
      " ...\n",
      " [0.938 0.0 239.82 ... 0.0 0.0 Timestamp('2010-11-26 21:00:00')]\n",
      " [0.934 0.0 239.7 ... 0.0 0.0 Timestamp('2010-11-26 21:01:00')]\n",
      " [0.932 0.0 239.55 ... 0.0 0.0 Timestamp('2010-11-26 21:02:00')]]\n",
      "Execution time: 0.2977541000582278\n"
     ]
    }
   ],
   "source": [
    "def task2_df():\n",
    "    return df[df['Voltage'] > 235]\n",
    "\n",
    "def task2_npy():\n",
    "    return npy[npy[:, 2] > 235]\n",
    "\n",
    "print('Filtered DataFrame:\\n', task2_df())\n",
    "print(\"Execution time:\", ti.timeit(lambda: task2_df(), number=1))\n",
    "\n",
    "print('Filtered Numpy array:\\n', task2_npy())\n",
    "print(\"Execution time:\", ti.timeit(lambda: task2_npy(), number=1))"
   ]
  },
  {
   "cell_type": "markdown",
   "metadata": {},
   "source": [
    "Task 3"
   ]
  },
  {
   "cell_type": "code",
   "execution_count": 7,
   "metadata": {},
   "outputs": [
    {
     "name": "stdout",
     "output_type": "stream",
     "text": [
      "Filtered DataFrame:\n",
      "          Global_active_power  Global_reactive_power  Voltage  \\\n",
      "45                     4.464                  0.136   234.66   \n",
      "460                    4.582                  0.258   238.08   \n",
      "464                    4.618                  0.104   239.61   \n",
      "475                    4.636                  0.140   237.37   \n",
      "476                    4.634                  0.152   237.17   \n",
      "...                      ...                    ...      ...   \n",
      "2071589                4.666                  0.000   235.72   \n",
      "2071590                4.694                  0.000   236.78   \n",
      "2071591                4.602                  0.000   237.08   \n",
      "2071592                4.536                  0.000   237.03   \n",
      "2071593                4.626                  0.000   236.78   \n",
      "\n",
      "         Global_intensity  Sub_metering_1  Sub_metering_2  Sub_metering_3  \\\n",
      "45                   19.0             0.0            37.0            16.0   \n",
      "460                  19.6             0.0            13.0             0.0   \n",
      "464                  19.6             0.0            27.0             0.0   \n",
      "475                  19.4             0.0            36.0             0.0   \n",
      "476                  19.4             0.0            35.0             0.0   \n",
      "...                   ...             ...             ...             ...   \n",
      "2071589              19.8             0.0            39.0            17.0   \n",
      "2071590              19.8             0.0            39.0            18.0   \n",
      "2071591              19.4             0.0            40.0            17.0   \n",
      "2071592              19.0             0.0            39.0            17.0   \n",
      "2071593              19.4             0.0            39.0            17.0   \n",
      "\n",
      "                   DateTime  \n",
      "45      2006-12-16 18:09:00  \n",
      "460     2006-12-17 01:04:00  \n",
      "464     2006-12-17 01:08:00  \n",
      "475     2006-12-17 01:19:00  \n",
      "476     2006-12-17 01:20:00  \n",
      "...                     ...  \n",
      "2071589 2010-11-24 07:53:00  \n",
      "2071590 2010-11-24 07:54:00  \n",
      "2071591 2010-11-24 07:55:00  \n",
      "2071592 2010-11-24 07:56:00  \n",
      "2071593 2010-11-24 07:57:00  \n",
      "\n",
      "[2509 rows x 8 columns]\n",
      "Execution time: 0.018307399936020374\n",
      "Filtered Numpy array:\n",
      " [[4.464 0.136 234.66 ... 37.0 16.0 Timestamp('2006-12-16 18:09:00')]\n",
      " [4.582 0.258 238.08 ... 13.0 0.0 Timestamp('2006-12-17 01:04:00')]\n",
      " [4.618 0.104 239.61 ... 27.0 0.0 Timestamp('2006-12-17 01:08:00')]\n",
      " ...\n",
      " [4.602 0.0 237.08 ... 40.0 17.0 Timestamp('2010-11-24 07:55:00')]\n",
      " [4.536 0.0 237.03 ... 39.0 17.0 Timestamp('2010-11-24 07:56:00')]\n",
      " [4.626 0.0 236.78 ... 39.0 17.0 Timestamp('2010-11-24 07:57:00')]]\n",
      "Execution time: 0.12072499981150031\n"
     ]
    }
   ],
   "source": [
    "def task3_df():\n",
    "    return df[(df['Global_intensity'] >= 19) & (df['Global_intensity'] <= 20) & (df['Sub_metering_2'] > df['Sub_metering_3'])]\n",
    "\n",
    "def task3_npy():\n",
    "    return npy[(npy[:, 3] >= 19) & (npy[:, 3] <= 20) & (npy[:, 5] > npy[:, 6])]\n",
    "\n",
    "print('Filtered DataFrame:\\n', task3_df())\n",
    "print(\"Execution time:\", ti.timeit(lambda: task3_df(), number=1))\n",
    "\n",
    "print('Filtered Numpy array:\\n', task3_npy())\n",
    "print(\"Execution time:\", ti.timeit(lambda: task3_npy(), number=1))"
   ]
  },
  {
   "cell_type": "markdown",
   "metadata": {},
   "source": [
    "Task 4"
   ]
  },
  {
   "cell_type": "code",
   "execution_count": 8,
   "metadata": {},
   "outputs": [
    {
     "name": "stdout",
     "output_type": "stream",
     "text": [
      "DataFrame means:\n",
      " Sub_metering_1    1.115170\n",
      "Sub_metering_2    1.300454\n",
      "Sub_metering_3    6.458298\n",
      "dtype: float64\n",
      "Execution time: 0.19024020014330745\n",
      "Numpy array means:\n",
      " [1.119858 1.289468 6.46389]\n",
      "Execution time: 0.41978259989991784\n"
     ]
    }
   ],
   "source": [
    "def task4_df():\n",
    "    random_df = df.sample(n=500000, replace=False)\n",
    "    means = random_df[['Sub_metering_1', 'Sub_metering_2', 'Sub_metering_3']].mean()\n",
    "    return means\n",
    "\n",
    "def task4_npy():\n",
    "    random_npy = npy[np.random.choice(npy.shape[0], size=500000, replace=True), :]\n",
    "    means = np.mean(random_npy[:, 4:7], axis=0)\n",
    "    return means\n",
    "\n",
    "print('DataFrame means:\\n', task4_df())\n",
    "print(\"Execution time:\", ti.timeit(lambda: task4_df(), number=1))\n",
    "\n",
    "print('Numpy array means:\\n', task4_npy())\n",
    "print(\"Execution time:\", ti.timeit(lambda: task4_npy(), number=1))"
   ]
  },
  {
   "cell_type": "markdown",
   "metadata": {},
   "source": [
    "Task 5"
   ]
  },
  {
   "cell_type": "code",
   "execution_count": 9,
   "metadata": {},
   "outputs": [
    {
     "name": "stdout",
     "output_type": "stream",
     "text": [
      "DataFrame:\n",
      "          Global_active_power  Global_reactive_power  Voltage  \\\n",
      "41                     6.052                  0.192   232.93   \n",
      "44                     6.308                  0.116   232.25   \n",
      "17494                  6.386                  0.374   236.63   \n",
      "17498                  8.088                  0.262   235.50   \n",
      "17501                  7.230                  0.152   235.22   \n",
      "...                      ...                    ...      ...   \n",
      "2066467                6.830                  0.394   229.39   \n",
      "2066471                6.784                  0.364   228.38   \n",
      "2066475                6.362                  0.372   229.83   \n",
      "2066479                6.324                  0.376   229.93   \n",
      "2066485                6.210                  0.174   228.82   \n",
      "\n",
      "         Global_intensity  Sub_metering_1  Sub_metering_2  Sub_metering_3  \\\n",
      "41                   26.2             0.0            37.0            17.0   \n",
      "44                   27.0             0.0            36.0            17.0   \n",
      "17494                27.0             1.0            36.0            17.0   \n",
      "17498                34.4             1.0            72.0            17.0   \n",
      "17501                30.6             1.0            73.0            17.0   \n",
      "...                   ...             ...             ...             ...   \n",
      "2066467              30.2            24.0            34.0            16.0   \n",
      "2066471              30.0            21.0            35.0            16.0   \n",
      "2066475              28.0            16.0            35.0            16.0   \n",
      "2066479              27.8            14.0            35.0            17.0   \n",
      "2066485              27.4            21.0            34.0            17.0   \n",
      "\n",
      "                   DateTime  \n",
      "41      2006-12-16 18:05:00  \n",
      "44      2006-12-16 18:08:00  \n",
      "17494   2006-12-28 20:58:00  \n",
      "17498   2006-12-28 21:02:00  \n",
      "17501   2006-12-28 21:05:00  \n",
      "...                     ...  \n",
      "2066467 2010-11-20 18:31:00  \n",
      "2066471 2010-11-20 18:35:00  \n",
      "2066475 2010-11-20 18:39:00  \n",
      "2066479 2010-11-20 18:43:00  \n",
      "2066485 2010-11-20 18:49:00  \n",
      "\n",
      "[310 rows x 8 columns]\n",
      "Execution time: 0.7044981999788433\n",
      "Numpy array:\n",
      " [[6.052 0.192 232.93 ... 37.0 17.0 Timestamp('2006-12-16 18:05:00')]\n",
      " [6.308 0.116 232.25 ... 36.0 17.0 Timestamp('2006-12-16 18:08:00')]\n",
      " [6.386 0.374 236.63 ... 36.0 17.0 Timestamp('2006-12-28 20:58:00')]\n",
      " ...\n",
      " [6.362 0.372 229.83 ... 35.0 16.0 Timestamp('2010-11-20 18:39:00')]\n",
      " [6.324 0.376 229.93 ... 35.0 17.0 Timestamp('2010-11-20 18:43:00')]\n",
      " [6.21 0.174 228.82 ... 34.0 17.0 Timestamp('2010-11-20 18:49:00')]]\n",
      "Execution time: 6.800923299975693\n"
     ]
    }
   ],
   "source": [
    "def task5_df():\n",
    "    df['DateTime'] = pd.to_datetime(df['DateTime'])\n",
    "    filtered_df = df[(df['DateTime'].dt.time > pd.to_datetime('18:00:00').time()) & (df['Global_active_power'] > 6) & (df['Sub_metering_2'] > df['Sub_metering_1']) & (df['Sub_metering_2'] > df['Sub_metering_3'])]\n",
    "\n",
    "    half_index = len(filtered_df) // 2\n",
    "    first_half = filtered_df.iloc[:half_index]\n",
    "    second_half = filtered_df.iloc[half_index:]\n",
    "\n",
    "    selected_rows = pd.concat([first_half.iloc[::3], second_half.iloc[::4]])\n",
    "\n",
    "    return selected_rows\n",
    "\n",
    "def task5_npy():\n",
    "    npy[:, 7] = np.array([pd.to_datetime(val) for val in npy[:, 7]])\n",
    "    filtered_npy = npy[(npy[:, 7].astype('datetime64[s]').astype(int) % 86400 > 18 * 3600) & (npy[:, 0].astype(float) > 6) & (npy[:, 5].astype(float) > npy[:, 4].astype(float)) & (npy[:, 5].astype(float) > npy[:, 6].astype(float))]\n",
    "\n",
    "    half_index = len(filtered_npy) // 2\n",
    "    first_half = filtered_npy[:half_index]\n",
    "    second_half = filtered_npy[half_index:]\n",
    "\n",
    "    selected_rows = np.concatenate([first_half[::3], second_half[::4]])\n",
    "\n",
    "    return selected_rows\n",
    "\n",
    "print('DataFrame:\\n', task5_df())\n",
    "print(\"Execution time:\", ti.timeit(lambda: task5_df(), number=1))\n",
    "\n",
    "print('Numpy array:\\n', task5_npy())\n",
    "print(\"Execution time:\", ti.timeit(lambda: task5_npy(), number=1))"
   ]
  },
  {
   "cell_type": "markdown",
   "metadata": {},
   "source": [
    "# Другий рівень\n",
    "\n",
    "imports"
   ]
  },
  {
   "cell_type": "code",
   "execution_count": 31,
   "metadata": {},
   "outputs": [],
   "source": [
    "import matplotlib.pyplot as plt\n",
    "from scipy.stats import pearsonr, spearmanr\n",
    "import seaborn as sns"
   ]
  },
  {
   "cell_type": "markdown",
   "metadata": {},
   "source": [
    "Downloading Dataset about Horse Colics"
   ]
  },
  {
   "cell_type": "code",
   "execution_count": 11,
   "metadata": {},
   "outputs": [
    {
     "name": "stdout",
     "output_type": "stream",
     "text": [
      "     surgery  age  hospital_number  rectal_temperature  pulse  \\\n",
      "0        2.0    1           530101                38.5   66.0   \n",
      "1        1.0    1           534817                39.2   88.0   \n",
      "2        2.0    1           530334                38.3   40.0   \n",
      "3        1.0    9          5290409                39.1  164.0   \n",
      "4        2.0    1           530255                37.3  104.0   \n",
      "..       ...  ...              ...                 ...    ...   \n",
      "363      2.0    1           529695                38.6   60.0   \n",
      "364      2.0    1           528452                37.8   42.0   \n",
      "365      1.0    1           534783                38.0   60.0   \n",
      "366      2.0    1           528926                38.0   42.0   \n",
      "367      2.0    1           530670                37.6   88.0   \n",
      "\n",
      "     respiratory_rate  temperature_of_extremities  peripheral_pulse  \\\n",
      "0                28.0                         3.0               3.0   \n",
      "1                20.0                         NaN               NaN   \n",
      "2                24.0                         1.0               1.0   \n",
      "3                84.0                         4.0               1.0   \n",
      "4                35.0                         NaN               NaN   \n",
      "..                ...                         ...               ...   \n",
      "363              30.0                         1.0               1.0   \n",
      "364              40.0                         1.0               1.0   \n",
      "365              12.0                         1.0               1.0   \n",
      "366              12.0                         3.0               NaN   \n",
      "367              36.0                         3.0               1.0   \n",
      "\n",
      "     mucous_membranes  capillary_refill_time  ...  abdomen  \\\n",
      "0                 NaN                    2.0  ...      5.0   \n",
      "1                 4.0                    1.0  ...      2.0   \n",
      "2                 3.0                    1.0  ...      1.0   \n",
      "3                 6.0                    2.0  ...      NaN   \n",
      "4                 6.0                    2.0  ...      NaN   \n",
      "..                ...                    ...  ...      ...   \n",
      "363               3.0                    1.0  ...      NaN   \n",
      "364               1.0                    1.0  ...      3.0   \n",
      "365               2.0                    1.0  ...      4.0   \n",
      "366               3.0                    1.0  ...      1.0   \n",
      "367               1.0                    1.0  ...      NaN   \n",
      "\n",
      "     packed_cell_volume  total_protein  abdominocentesis_appearance  \\\n",
      "0                  45.0            8.4                          NaN   \n",
      "1                  50.0           85.0                          2.0   \n",
      "2                  33.0            6.7                          NaN   \n",
      "3                  48.0            7.2                          3.0   \n",
      "4                  74.0            7.4                          NaN   \n",
      "..                  ...            ...                          ...   \n",
      "363                40.0            6.0                          1.0   \n",
      "364                36.0            6.2                          NaN   \n",
      "365                44.0           65.0                          3.0   \n",
      "366                37.0            5.8                          NaN   \n",
      "367                44.0            6.0                          NaN   \n",
      "\n",
      "     abdominocentesis_total_protein  outcome  lesion_site  lesion_type  \\\n",
      "0                               NaN      2.0        11300            0   \n",
      "1                               2.0      3.0         2208            0   \n",
      "2                               NaN      1.0            0            0   \n",
      "3                               5.3      2.0         2208            0   \n",
      "4                               NaN      2.0         4300            0   \n",
      "..                              ...      ...          ...          ...   \n",
      "363                             NaN      1.0         3205            0   \n",
      "364                             NaN      1.0         4124            0   \n",
      "365                             2.0      3.0         2209            0   \n",
      "366                             NaN      1.0         3111            0   \n",
      "367                             NaN      2.0         2112            0   \n",
      "\n",
      "     lesion_subtype  cp_data  \n",
      "0                 0        2  \n",
      "1                 0        2  \n",
      "2                 0        1  \n",
      "3                 0        1  \n",
      "4                 0        2  \n",
      "..              ...      ...  \n",
      "363               0        2  \n",
      "364               0        2  \n",
      "365               0        2  \n",
      "366               0        2  \n",
      "367               0        2  \n",
      "\n",
      "[368 rows x 27 columns]\n"
     ]
    }
   ],
   "source": [
    "horse_colic = fetch_ucirepo(id=47)\n",
    "X = horse_colic.data.features\n",
    "df = pd.DataFrame(X)\n",
    "df.to_csv('horse_colic.csv', index=False)\n",
    "\n",
    "df = pd.read_csv('horse_colic.csv')\n",
    "\n",
    "print(df)"
   ]
  },
  {
   "cell_type": "markdown",
   "metadata": {},
   "source": [
    "1. Поборотися із зниклими даними."
   ]
  },
  {
   "cell_type": "code",
   "execution_count": 13,
   "metadata": {},
   "outputs": [
    {
     "name": "stdout",
     "output_type": "stream",
     "text": [
      "     surgery  age  hospital_number  rectal_temperature  pulse  \\\n",
      "3        1.0    9          5290409                39.1  164.0   \n",
      "4        2.0    1           530255                37.3  104.0   \n",
      "5        2.0    1           528355                37.3  104.0   \n",
      "6        1.0    1           526802                37.9   48.0   \n",
      "7        1.0    1           529607                37.9   60.0   \n",
      "..       ...  ...              ...                 ...    ...   \n",
      "363      2.0    1           529695                38.6   60.0   \n",
      "364      2.0    1           528452                37.8   42.0   \n",
      "365      1.0    1           534783                38.0   60.0   \n",
      "366      2.0    1           528926                38.0   42.0   \n",
      "367      2.0    1           530670                37.6   88.0   \n",
      "\n",
      "     respiratory_rate  temperature_of_extremities  peripheral_pulse  \\\n",
      "3                84.0                         4.0               1.0   \n",
      "4                35.0                         4.0               1.0   \n",
      "5                35.0                         2.0               1.0   \n",
      "6                16.0                         1.0               1.0   \n",
      "7                16.0                         3.0               1.0   \n",
      "..                ...                         ...               ...   \n",
      "363              30.0                         1.0               1.0   \n",
      "364              40.0                         1.0               1.0   \n",
      "365              12.0                         1.0               1.0   \n",
      "366              12.0                         3.0               1.0   \n",
      "367              36.0                         3.0               1.0   \n",
      "\n",
      "     mucous_membranes  capillary_refill_time  ...  abdomen  \\\n",
      "3                 6.0                    2.0  ...      1.0   \n",
      "4                 6.0                    2.0  ...      1.0   \n",
      "5                 3.0                    1.0  ...      3.0   \n",
      "6                 1.0                    1.0  ...      5.0   \n",
      "7                 1.0                    1.0  ...      4.0   \n",
      "..                ...                    ...  ...      ...   \n",
      "363               3.0                    1.0  ...      2.0   \n",
      "364               1.0                    1.0  ...      3.0   \n",
      "365               2.0                    1.0  ...      4.0   \n",
      "366               3.0                    1.0  ...      1.0   \n",
      "367               1.0                    1.0  ...      1.0   \n",
      "\n",
      "     packed_cell_volume  total_protein  abdominocentesis_appearance  \\\n",
      "3                  48.0            7.2                          3.0   \n",
      "4                  74.0            7.4                          3.0   \n",
      "5                  74.0            7.4                          3.0   \n",
      "6                  37.0            7.0                          3.0   \n",
      "7                  44.0            8.3                          3.0   \n",
      "..                  ...            ...                          ...   \n",
      "363                40.0            6.0                          1.0   \n",
      "364                36.0            6.2                          1.0   \n",
      "365                44.0           65.0                          3.0   \n",
      "366                37.0            5.8                          3.0   \n",
      "367                44.0            6.0                          3.0   \n",
      "\n",
      "     abdominocentesis_total_protein  outcome  lesion_site  lesion_type  \\\n",
      "3                               5.3      2.0         2208            0   \n",
      "4                               5.3      2.0         4300            0   \n",
      "5                               5.3      1.0            0            0   \n",
      "6                               5.3      1.0         3124            0   \n",
      "7                               5.3      2.0         2208            0   \n",
      "..                              ...      ...          ...          ...   \n",
      "363                             3.1      1.0         3205            0   \n",
      "364                             3.1      1.0         4124            0   \n",
      "365                             2.0      3.0         2209            0   \n",
      "366                             2.0      1.0         3111            0   \n",
      "367                             2.0      2.0         2112            0   \n",
      "\n",
      "     lesion_subtype  cp_data  \n",
      "3                 0        1  \n",
      "4                 0        2  \n",
      "5                 0        2  \n",
      "6                 0        2  \n",
      "7                 0        2  \n",
      "..              ...      ...  \n",
      "363               0        2  \n",
      "364               0        2  \n",
      "365               0        2  \n",
      "366               0        2  \n",
      "367               0        2  \n",
      "\n",
      "[365 rows x 27 columns]\n"
     ]
    },
    {
     "name": "stderr",
     "output_type": "stream",
     "text": [
      "C:\\Users\\Сергей\\AppData\\Local\\Temp\\ipykernel_13784\\39533094.py:4: FutureWarning: DataFrame.fillna with 'method' is deprecated and will raise in a future version. Use obj.ffill() or obj.bfill() instead.\n",
      "  df = df.fillna(method='ffill')\n"
     ]
    }
   ],
   "source": [
    "# Якщо прибрати всі NaN, то залишиться всього 30 рядків, але якщо подивитись на стовпці з пропущеними занченнями, то можна побачити,\n",
    "# що вони не сильно відрізняються один від одного, тому просто замінимо їх на поереднє відоме.\n",
    "\n",
    "df = df.fillna(method='ffill')\n",
    "df = df.dropna()\n",
    "print(df)"
   ]
  },
  {
   "cell_type": "markdown",
   "metadata": {},
   "source": [
    "2. Пронормувати вибраний датасет або стандартизувати його"
   ]
  },
  {
   "cell_type": "code",
   "execution_count": 15,
   "metadata": {},
   "outputs": [
    {
     "name": "stdout",
     "output_type": "stream",
     "text": [
      "3      0.045508\n",
      "4      0.047841\n",
      "5      0.047841\n",
      "6      0.043174\n",
      "7      0.058343\n",
      "         ...   \n",
      "363    0.031505\n",
      "364    0.033839\n",
      "365    0.719953\n",
      "366    0.029172\n",
      "367    0.031505\n",
      "Name: total_protein_normalized, Length: 365, dtype: float64\n"
     ]
    }
   ],
   "source": [
    "# Нормалізуємо стовпець total_protein, бо він має широкий спектр значень.\n",
    "\n",
    "min_total_protein = df['total_protein'].min()\n",
    "max_total_protein = df['total_protein'].max()\n",
    "\n",
    "df['total_protein_normalized'] = (df['total_protein'] - min_total_protein) / (max_total_protein - min_total_protein)\n",
    "\n",
    "print(df['total_protein_normalized'])"
   ]
  },
  {
   "cell_type": "markdown",
   "metadata": {},
   "source": [
    "3. Збудувати гістограму по одному із атрибутів, що буде показувати на кількість елементів, що знаходяться у 10 діапазонах, які ви задасте."
   ]
  },
  {
   "cell_type": "code",
   "execution_count": 20,
   "metadata": {},
   "outputs": [
    {
     "data": {
      "image/png": "[encoded data removed]",
      "text/plain": [
       "<Figure size 640x480 with 1 Axes>"
      ]
     },
     "metadata": {},
     "output_type": "display_data"
    }
   ],
   "source": [
    "ranges = [37.3, 37.5, 37.7, 37.9, 38.1, 38.3, 38.5, 38.7, 38.9, 39.1]\n",
    "\n",
    "plt.hist(df['rectal_temperature'], bins=ranges, edgecolor='black')\n",
    "\n",
    "plt.xlabel('Rectal Temperature')\n",
    "plt.ylabel('Count')\n",
    "plt.title('Histogram of Rectal Temperature')\n",
    "tick_values = np.arange(min(ranges), max(ranges) + 0.2, 0.2)\n",
    "plt.xticks(tick_values)\n",
    "\n",
    "plt.show()"
   ]
  },
  {
   "cell_type": "markdown",
   "metadata": {},
   "source": [
    "4. Збудувати графік залежності одного integer/real атрибута від іншого."
   ]
  },
  {
   "cell_type": "code",
   "execution_count": 44,
   "metadata": {},
   "outputs": [
    {
     "data": {
      "image/png": "[encoded data removed]",
      "text/plain": [
       "<Figure size 640x480 with 1 Axes>"
      ]
     },
     "metadata": {},
     "output_type": "display_data"
    }
   ],
   "source": [
    "plt.scatter(df['rectal_temperature'], df['pulse'], color='blue', alpha=0.5)\n",
    "plt.xlabel('temperature')\n",
    "plt.ylabel('pulse')\n",
    "plt.title(f'Scatter Plot of temperature vs pulse')\n",
    "plt.grid(True)\n",
    "\n",
    "plt.show()"
   ]
  },
  {
   "cell_type": "markdown",
   "metadata": {},
   "source": [
    "5. Підрахувати коефіцієнт Пірсона та Спірмена для двох integer/real атрибутів."
   ]
  },
  {
   "cell_type": "code",
   "execution_count": 43,
   "metadata": {},
   "outputs": [
    {
     "name": "stdout",
     "output_type": "stream",
     "text": [
      "Pearson coefficient: 0.12217493876850602\n",
      "Spearman coefficient: 0.1605732628966047\n"
     ]
    }
   ],
   "source": [
    "x = df['rectal_temperature']\n",
    "y = df['pulse']\n",
    "\n",
    "pearson, _ = pearsonr(x, y)\n",
    "spearman, _ = spearmanr(x, y)\n",
    "\n",
    "print(f\"Pearson coefficient: {pearson}\")\n",
    "print(f\"Spearman coefficient: {spearman}\")"
   ]
  },
  {
   "cell_type": "markdown",
   "metadata": {},
   "source": [
    "6. Провести One Hot Encoding категоріального string атрибуту."
   ]
  },
  {
   "cell_type": "code",
   "execution_count": 29,
   "metadata": {},
   "outputs": [
    {
     "name": "stdout",
     "output_type": "stream",
     "text": [
      "     surgery  age  hospital_number  rectal_temperature  pulse  \\\n",
      "3        1.0    9          5290409                39.1  164.0   \n",
      "4        2.0    1           530255                37.3  104.0   \n",
      "5        2.0    1           528355                37.3  104.0   \n",
      "6        1.0    1           526802                37.9   48.0   \n",
      "7        1.0    1           529607                37.9   60.0   \n",
      "..       ...  ...              ...                 ...    ...   \n",
      "363      2.0    1           529695                38.6   60.0   \n",
      "364      2.0    1           528452                37.8   42.0   \n",
      "365      1.0    1           534783                38.0   60.0   \n",
      "366      2.0    1           528926                38.0   42.0   \n",
      "367      2.0    1           530670                37.6   88.0   \n",
      "\n",
      "     respiratory_rate temperature_of_extremities  peripheral_pulse  \\\n",
      "3                84.0                       Cold               1.0   \n",
      "4                35.0                       Cold               1.0   \n",
      "5                35.0                       Warm               1.0   \n",
      "6                16.0                     Normal               1.0   \n",
      "7                16.0                       Cool               1.0   \n",
      "..                ...                        ...               ...   \n",
      "363              30.0                     Normal               1.0   \n",
      "364              40.0                     Normal               1.0   \n",
      "365              12.0                     Normal               1.0   \n",
      "366              12.0                       Cool               1.0   \n",
      "367              36.0                       Cool               1.0   \n",
      "\n",
      "     mucous_membranes  capillary_refill_time  ...  packed_cell_volume  \\\n",
      "3                 6.0                    2.0  ...                48.0   \n",
      "4                 6.0                    2.0  ...                74.0   \n",
      "5                 3.0                    1.0  ...                74.0   \n",
      "6                 1.0                    1.0  ...                37.0   \n",
      "7                 1.0                    1.0  ...                44.0   \n",
      "..                ...                    ...  ...                 ...   \n",
      "363               3.0                    1.0  ...                40.0   \n",
      "364               1.0                    1.0  ...                36.0   \n",
      "365               2.0                    1.0  ...                44.0   \n",
      "366               3.0                    1.0  ...                37.0   \n",
      "367               1.0                    1.0  ...                44.0   \n",
      "\n",
      "     total_protein  abdominocentesis_appearance  \\\n",
      "3              7.2                          3.0   \n",
      "4              7.4                          3.0   \n",
      "5              7.4                          3.0   \n",
      "6              7.0                          3.0   \n",
      "7              8.3                          3.0   \n",
      "..             ...                          ...   \n",
      "363            6.0                          1.0   \n",
      "364            6.2                          1.0   \n",
      "365           65.0                          3.0   \n",
      "366            5.8                          3.0   \n",
      "367            6.0                          3.0   \n",
      "\n",
      "     abdominocentesis_total_protein  outcome  lesion_site  lesion_type  \\\n",
      "3                               5.3      2.0         2208            0   \n",
      "4                               5.3      2.0         4300            0   \n",
      "5                               5.3      1.0            0            0   \n",
      "6                               5.3      1.0         3124            0   \n",
      "7                               5.3      2.0         2208            0   \n",
      "..                              ...      ...          ...          ...   \n",
      "363                             3.1      1.0         3205            0   \n",
      "364                             3.1      1.0         4124            0   \n",
      "365                             2.0      3.0         2209            0   \n",
      "366                             2.0      1.0         3111            0   \n",
      "367                             2.0      2.0         2112            0   \n",
      "\n",
      "     lesion_subtype  cp_data  total_protein_normalized  \n",
      "3                 0        1                  0.045508  \n",
      "4                 0        2                  0.047841  \n",
      "5                 0        2                  0.047841  \n",
      "6                 0        2                  0.043174  \n",
      "7                 0        2                  0.058343  \n",
      "..              ...      ...                       ...  \n",
      "363               0        2                  0.031505  \n",
      "364               0        2                  0.033839  \n",
      "365               0        2                  0.719953  \n",
      "366               0        2                  0.029172  \n",
      "367               0        2                  0.031505  \n",
      "\n",
      "[365 rows x 28 columns]\n",
      "     surgery  age  hospital_number  rectal_temperature  pulse  \\\n",
      "3        1.0    9          5290409                39.1  164.0   \n",
      "4        2.0    1           530255                37.3  104.0   \n",
      "5        2.0    1           528355                37.3  104.0   \n",
      "6        1.0    1           526802                37.9   48.0   \n",
      "7        1.0    1           529607                37.9   60.0   \n",
      "..       ...  ...              ...                 ...    ...   \n",
      "363      2.0    1           529695                38.6   60.0   \n",
      "364      2.0    1           528452                37.8   42.0   \n",
      "365      1.0    1           534783                38.0   60.0   \n",
      "366      2.0    1           528926                38.0   42.0   \n",
      "367      2.0    1           530670                37.6   88.0   \n",
      "\n",
      "     respiratory_rate temperature_of_extremities  peripheral_pulse  \\\n",
      "3                84.0                       Cold               1.0   \n",
      "4                35.0                       Cold               1.0   \n",
      "5                35.0                       Warm               1.0   \n",
      "6                16.0                     Normal               1.0   \n",
      "7                16.0                       Cool               1.0   \n",
      "..                ...                        ...               ...   \n",
      "363              30.0                     Normal               1.0   \n",
      "364              40.0                     Normal               1.0   \n",
      "365              12.0                     Normal               1.0   \n",
      "366              12.0                       Cool               1.0   \n",
      "367              36.0                       Cool               1.0   \n",
      "\n",
      "     mucous_membranes  capillary_refill_time  ...  outcome  lesion_site  \\\n",
      "3                 6.0                    2.0  ...      2.0         2208   \n",
      "4                 6.0                    2.0  ...      2.0         4300   \n",
      "5                 3.0                    1.0  ...      1.0            0   \n",
      "6                 1.0                    1.0  ...      1.0         3124   \n",
      "7                 1.0                    1.0  ...      2.0         2208   \n",
      "..                ...                    ...  ...      ...          ...   \n",
      "363               3.0                    1.0  ...      1.0         3205   \n",
      "364               1.0                    1.0  ...      1.0         4124   \n",
      "365               2.0                    1.0  ...      3.0         2209   \n",
      "366               3.0                    1.0  ...      1.0         3111   \n",
      "367               1.0                    1.0  ...      2.0         2112   \n",
      "\n",
      "     lesion_type  lesion_subtype  cp_data  total_protein_normalized  \\\n",
      "3              0               0        1                  0.045508   \n",
      "4              0               0        2                  0.047841   \n",
      "5              0               0        2                  0.047841   \n",
      "6              0               0        2                  0.043174   \n",
      "7              0               0        2                  0.058343   \n",
      "..           ...             ...      ...                       ...   \n",
      "363            0               0        2                  0.031505   \n",
      "364            0               0        2                  0.033839   \n",
      "365            0               0        2                  0.719953   \n",
      "366            0               0        2                  0.029172   \n",
      "367            0               0        2                  0.031505   \n",
      "\n",
      "     temperature_Cold  temperature_Cool  temperature_Normal  temperature_Warm  \n",
      "3                True             False               False             False  \n",
      "4                True             False               False             False  \n",
      "5               False             False               False              True  \n",
      "6               False             False                True             False  \n",
      "7               False              True               False             False  \n",
      "..                ...               ...                 ...               ...  \n",
      "363             False             False                True             False  \n",
      "364             False             False                True             False  \n",
      "365             False             False                True             False  \n",
      "366             False              True               False             False  \n",
      "367             False              True               False             False  \n",
      "\n",
      "[365 rows x 32 columns]\n"
     ]
    }
   ],
   "source": [
    "mapping = {1: 'Normal', 2: 'Warm', 3: 'Cool', 4: 'Cold'}\n",
    "df['temperature_of_extremities'] = df['temperature_of_extremities'].replace(mapping)\n",
    "\n",
    "one_hot_encoded = pd.get_dummies(df['temperature_of_extremities'], prefix='temperature')\n",
    "df_encoded = pd.concat([df, one_hot_encoded], axis=1)\n",
    "\n",
    "print(df)\n",
    "print(df_encoded)"
   ]
  },
  {
   "cell_type": "markdown",
   "metadata": {},
   "source": [
    "7. Провести візуалізацію багатовимірних даних, використовуючи приклади, наведені у медіумі"
   ]
  },
  {
   "cell_type": "code",
   "execution_count": 48,
   "metadata": {},
   "outputs": [
    {
     "data": {
      "image/png": "[encoded data removed]",
      "text/plain": [
       "<Figure size 600x600 with 3 Axes>"
      ]
     },
     "metadata": {},
     "output_type": "display_data"
    }
   ],
   "source": [
    "sns.jointplot(x=df['rectal_temperature'], y = df['pulse'], kind=\"kde\", color='red')\n",
    "plt.xlabel('Temperature')\n",
    "plt.ylabel('Pulse')\n",
    "\n",
    "plt.show()"
   ]
  }
 ],
 "metadata": {
  "kernelspec": {
   "display_name": "Python 3",
   "language": "python",
   "name": "python3"
  },
  "language_info": {
   "codemirror_mode": {
    "name": "ipython",
    "version": 3
   },
   "file_extension": ".py",
   "mimetype": "text/x-python",
   "name": "python",
   "nbconvert_exporter": "python",
   "pygments_lexer": "ipython3",
   "version": "3.11.5"
  }
 },
 "nbformat": 4,
 "nbformat_minor": 2
}
